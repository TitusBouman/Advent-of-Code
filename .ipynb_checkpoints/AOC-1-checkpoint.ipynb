{
 "cells": [
  {
   "cell_type": "code",
   "execution_count": 30,
   "metadata": {},
   "outputs": [
    {
     "name": "stdout",
     "output_type": "stream",
     "text": [
      "67450\n"
     ]
    }
   ],
   "source": [
    "import os\n",
    "\n",
    "elvesTotal = []\n",
    "\n",
    "with open('Data/day1.txt', 'r') as file:\n",
    "    #check if entry is empty\n",
    "    som = 0\n",
    "    for line in file:\n",
    "        #if not, add entry to sum\n",
    "        if line != '\\n':\n",
    "            som += int(line)\n",
    "        #if empty, add sum to output list\n",
    "        else:\n",
    "            elvesTotal.append(som)\n",
    "            som =0\n",
    "\n",
    "#output max from output list\n",
    "print(max(elvesTotal))\n",
    "\n"
   ]
  },
  {
   "cell_type": "code",
   "execution_count": 17,
   "metadata": {},
   "outputs": [],
   "source": [
    "os.chdir(\"C:/Users/titus/Documents/GitHub/Advent-of-Code\")"
   ]
  },
  {
   "cell_type": "code",
   "execution_count": null,
   "metadata": {},
   "outputs": [],
   "source": []
  }
 ],
 "metadata": {
  "kernelspec": {
   "display_name": "Python 3",
   "language": "python",
   "name": "python3"
  },
  "language_info": {
   "codemirror_mode": {
    "name": "ipython",
    "version": 3
   },
   "file_extension": ".py",
   "mimetype": "text/x-python",
   "name": "python",
   "nbconvert_exporter": "python",
   "pygments_lexer": "ipython3",
   "version": "3.7.6"
  }
 },
 "nbformat": 4,
 "nbformat_minor": 4
}
