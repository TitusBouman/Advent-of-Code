{
 "cells": [
  {
   "cell_type": "code",
   "execution_count": 67,
   "metadata": {},
   "outputs": [
    {
     "name": "stdout",
     "output_type": "stream",
     "text": [
      "12586\n"
     ]
    }
   ],
   "source": [
    "som = 0\n",
    "SPSdict = {\n",
    "    \"A X\" : 4,\n",
    "    \"A Y\" : 8,\n",
    "    \"A Z\" : 3,\n",
    "    \"B X\" : 1,\n",
    "    \"B Y\" : 5,\n",
    "    \"B Z\" : 9,\n",
    "    \"C X\" : 7,\n",
    "    \"C Y\" : 2,\n",
    "    \"C Z\" : 6\n",
    "}\n",
    "with open('Data/day2.txt', 'r') as file:\n",
    "    #compare line\n",
    "    for line in file:\n",
    "        som += SPSdict[''.join(line.strip())]\n",
    "print(som)"
   ]
  },
  {
   "cell_type": "code",
   "execution_count": 68,
   "metadata": {},
   "outputs": [
    {
     "name": "stdout",
     "output_type": "stream",
     "text": [
      "13193\n"
     ]
    }
   ],
   "source": [
    "som = 0\n",
    "SPSdict = {\n",
    "    \"A X\" : 3,\n",
    "    \"A Y\" : 4,\n",
    "    \"A Z\" : 8,\n",
    "    \"B X\" : 1,\n",
    "    \"B Y\" : 5,\n",
    "    \"B Z\" : 9,\n",
    "    \"C X\" : 2,\n",
    "    \"C Y\" : 6,\n",
    "    \"C Z\" : 7\n",
    "}\n",
    "with open('Data/day2.txt', 'r') as file:\n",
    "    #compare line\n",
    "    for line in file:\n",
    "        som += SPSdict[''.join(line.strip())]        \n",
    "print(som)"
   ]
  },
  {
   "cell_type": "code",
   "execution_count": null,
   "metadata": {},
   "outputs": [],
   "source": []
  }
 ],
 "metadata": {
  "kernelspec": {
   "display_name": "Python 3",
   "language": "python",
   "name": "python3"
  },
  "language_info": {
   "codemirror_mode": {
    "name": "ipython",
    "version": 3
   },
   "file_extension": ".py",
   "mimetype": "text/x-python",
   "name": "python",
   "nbconvert_exporter": "python",
   "pygments_lexer": "ipython3",
   "version": "3.7.6"
  }
 },
 "nbformat": 4,
 "nbformat_minor": 4
}
