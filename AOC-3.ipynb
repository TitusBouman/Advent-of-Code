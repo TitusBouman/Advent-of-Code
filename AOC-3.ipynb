{
 "cells": [
  {
   "cell_type": "code",
   "execution_count": 33,
   "metadata": {},
   "outputs": [
    {
     "name": "stdout",
     "output_type": "stream",
     "text": [
      "8153\n"
     ]
    }
   ],
   "source": [
    "import string\n",
    "sum = 0\n",
    "priorityIndex = string.ascii_lowercase[:26]+string.ascii_uppercase[:26]\n",
    "with open('Data/day3.txt', 'r') as file:\n",
    "    for rucksack in file:\n",
    "    #split compartiments\n",
    "        half = int(len(rucksack.strip()) / 2)\n",
    "        compartiment1 = rucksack[0:half]\n",
    "        compartiment2 = rucksack[half:]\n",
    "        for char in compartiment1: #find shared item\n",
    "            if char in compartiment2:\n",
    "                sum += (1+ priorityIndex.index(char)) #find priority index\n",
    "                break\n",
    "print(sum)"
   ]
  },
  {
   "cell_type": "code",
   "execution_count": 48,
   "metadata": {},
   "outputs": [
    {
     "name": "stdout",
     "output_type": "stream",
     "text": [
      "2342\n"
     ]
    }
   ],
   "source": [
    "import re\n",
    "sum = 0\n",
    "with open('Data/day3.txt', 'r') as file:\n",
    "    data = file.read()\n",
    "groups = re.findall('((?:[^\\n]+\\n?){1,3})', data)\n",
    "for group in groups:\n",
    "    group = group.split(\"\\n\")\n",
    "    for char in group[0]:\n",
    "        if char in group[1] and char in group[2]:\n",
    "            sum += (1+ priorityIndex.index(char)) #find priority index\n",
    "            break\n",
    "print(sum)"
   ]
  },
  {
   "cell_type": "code",
   "execution_count": null,
   "metadata": {},
   "outputs": [],
   "source": []
  }
 ],
 "metadata": {
  "kernelspec": {
   "display_name": "Python 3",
   "language": "python",
   "name": "python3"
  },
  "language_info": {
   "codemirror_mode": {
    "name": "ipython",
    "version": 3
   },
   "file_extension": ".py",
   "mimetype": "text/x-python",
   "name": "python",
   "nbconvert_exporter": "python",
   "pygments_lexer": "ipython3",
   "version": "3.7.6"
  }
 },
 "nbformat": 4,
 "nbformat_minor": 4
}
